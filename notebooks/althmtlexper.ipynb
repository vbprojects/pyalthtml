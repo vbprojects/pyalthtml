{
 "cells": [
  {
   "cell_type": "code",
   "execution_count": 30,
   "id": "68aeb381",
   "metadata": {},
   "outputs": [],
   "source": [
    "from althtml.compiler import AlthtmlCompiler\n",
    "from IPython.display import HTML, display"
   ]
  },
  {
   "cell_type": "code",
   "execution_count": 31,
   "id": "8142de86",
   "metadata": {},
   "outputs": [
    {
     "name": "stdout",
     "output_type": "stream",
     "text": [
      "Overwriting temp.aml\n"
     ]
    }
   ],
   "source": [
    "%%writefile temp.aml\n",
    ":macro !card\n",
    "    a @2\n",
    "        div lg:w-64 md:w-64 sm:w-64 max-w-96 card shadow-xl bg-base-100 h-64 w-64\n",
    "            div card-body text-sm text-left text-base-content\n",
    "            h1 card-title text-md h-[45%] | @0\n",
    "            div line-clamp-5 \n",
    "                p | @1\n",
    ":macro table\n",
    "    raw\n",
    "        <table border=\"1\" class=\"dataframe\">\n",
    "            <thead>\n",
    "                <tr style=\"text-align: right;\">\n",
    "                <th></th>\n",
    "                <th>A</th>\n",
    "                <th>N</th>\n",
    "                </tr>\n",
    "            </thead>\n",
    "            <tbody>\n",
    "                <tr>\n",
    "                <th>0</th>\n",
    "                <td>A</td>\n",
    "                <td>1</td>\n",
    "                </tr>\n",
    "                <tr>\n",
    "                <th>1</th>\n",
    "                <td>B</td>\n",
    "                <td>2</td>\n",
    "                </tr>\n",
    "                <tr>\n",
    "                <th>2</th>\n",
    "                <td>C</td>\n",
    "                <td>3</td>\n",
    "                </tr>\n",
    "            </tbody>\n",
    "        </table>"
   ]
  },
  {
   "cell_type": "code",
   "execution_count": 32,
   "id": "92e7d957",
   "metadata": {},
   "outputs": [],
   "source": [
    "import pandas as pd\n",
    "df = pd.DataFrame()\n",
    "df['A'] = 'A B C'.split(' ')\n",
    "df['N'] = [1, 2, 3]"
   ]
  },
  {
   "cell_type": "code",
   "execution_count": 33,
   "id": "95e80864",
   "metadata": {},
   "outputs": [],
   "source": [
    "# print(df.to_html())"
   ]
  },
  {
   "cell_type": "code",
   "execution_count": 34,
   "id": "43ef2097",
   "metadata": {},
   "outputs": [
    {
     "name": "stdout",
     "output_type": "stream",
     "text": [
      "Overwriting temp2.aml\n"
     ]
    }
   ],
   "source": [
    "%%writefile temp2.aml\n",
    "html\n",
    "    body\n",
    "        div\n",
    "            @table"
   ]
  },
  {
   "cell_type": "code",
   "execution_count": 35,
   "id": "efb3b6b7",
   "metadata": {},
   "outputs": [
    {
     "name": "stdout",
     "output_type": "stream",
     "text": [
      "Warning: Output does not start with an <html> tag.\n",
      "Warning: Output does not start with an <html> tag.\n"
     ]
    },
    {
     "data": {
      "text/html": [
       "<html>\n",
       "  <body>\n",
       "    <div>\n",
       "      <table border=\"1\" class=\"dataframe\">\n",
       "          <thead>\n",
       "              <tr style=\"text-align: right;\">\n",
       "              <th></th>\n",
       "              <th>A</th>\n",
       "              <th>N</th>\n",
       "              </tr>\n",
       "          </thead>\n",
       "          <tbody>\n",
       "              <tr>\n",
       "              <th>0</th>\n",
       "              <td>A</td>\n",
       "              <td>1</td>\n",
       "              </tr>\n",
       "              <tr>\n",
       "              <th>1</th>\n",
       "              <td>B</td>\n",
       "              <td>2</td>\n",
       "              </tr>\n",
       "              <tr>\n",
       "              <th>2</th>\n",
       "              <td>C</td>\n",
       "              <td>3</td>\n",
       "              </tr>\n",
       "          </tbody>\n",
       "      </table>\n",
       "    </div>\n",
       "  </body>\n",
       "</html>"
      ],
      "text/plain": [
       "<IPython.core.display.HTML object>"
      ]
     },
     "execution_count": 35,
     "metadata": {},
     "output_type": "execute_result"
    }
   ],
   "source": [
    "compiler = AlthtmlCompiler()\n",
    "with open('temp.aml', 'r') as f:\n",
    "    aml = f.read()\n",
    "    compiler.compile(aml)\n",
    "with open('temp2.aml', 'r') as f:\n",
    "    aml2 = f.read()\n",
    "    out = compiler.compile(aml2)\n",
    "with open('temp.html', 'w') as f:\n",
    "    f.write(out)\n",
    "HTML(out)"
   ]
  },
  {
   "cell_type": "code",
   "execution_count": 36,
   "id": "acf976bc",
   "metadata": {},
   "outputs": [
    {
     "name": "stdout",
     "output_type": "stream",
     "text": [
      "<html>\n",
      "  <body>\n",
      "    <div>\n",
      "      <table border=\"1\" class=\"dataframe\">\n",
      "          <thead>\n",
      "              <tr style=\"text-align: right;\">\n",
      "              <th></th>\n",
      "              <th>A</th>\n",
      "              <th>N</th>\n",
      "              </tr>\n",
      "          </thead>\n",
      "          <tbody>\n",
      "              <tr>\n",
      "              <th>0</th>\n",
      "              <td>A</td>\n",
      "              <td>1</td>\n",
      "              </tr>\n",
      "              <tr>\n",
      "              <th>1</th>\n",
      "              <td>B</td>\n",
      "              <td>2</td>\n",
      "              </tr>\n",
      "              <tr>\n",
      "              <th>2</th>\n",
      "              <td>C</td>\n",
      "              <td>3</td>\n",
      "              </tr>\n",
      "          </tbody>\n",
      "      </table>\n",
      "    </div>\n",
      "  </body>\n",
      "</html>\n"
     ]
    }
   ],
   "source": [
    "print(out)"
   ]
  },
  {
   "cell_type": "code",
   "execution_count": 37,
   "id": "92567c4c",
   "metadata": {},
   "outputs": [],
   "source": [
    "import watchdog"
   ]
  },
  {
   "cell_type": "markdown",
   "id": "15eb7141",
   "metadata": {},
   "source": [
    "althtml extends a compile function. I would like to use watchdog to poll a config such as this one, whenever a file changes I would like to recompile the appropriate althtml and alth files."
   ]
  },
  {
   "cell_type": "code",
   "execution_count": 101,
   "id": "a8a908b8",
   "metadata": {},
   "outputs": [
    {
     "name": "stdout",
     "output_type": "stream",
     "text": [
      "Overwriting config.yaml\n"
     ]
    }
   ],
   "source": [
    "%%writefile config.yaml\n",
    "headers :\n",
    "    - ./headers/*.alth\n",
    "write :\n",
    "    -\n",
    "        src : ./temp.althtml\n",
    "        dst : ./index.html\n",
    "    -\n",
    "        src : ./temp2.althtml\n",
    "        dst : ./index2.html"
   ]
  },
  {
   "cell_type": "code",
   "execution_count": 102,
   "id": "58a897ce",
   "metadata": {},
   "outputs": [],
   "source": [
    "import yaml\n",
    "from pathlib import Path"
   ]
  },
  {
   "cell_type": "code",
   "execution_count": 103,
   "id": "f48d703b",
   "metadata": {},
   "outputs": [],
   "source": [
    "cfg =  yaml.safe_load(open(\"config.yaml\", \"r\"))\n",
    "base_path = Path('.')\n",
    "no_write_paths = {header for header_str in cfg['headers'] for header in base_path.glob(header_str)}\n",
    "write_pairs = {Path(to_write['src']) : Path(to_write['dst']) for to_write in cfg['write']}\n"
   ]
  },
  {
   "cell_type": "code",
   "execution_count": 104,
   "id": "389a709f",
   "metadata": {},
   "outputs": [
    {
     "data": {
      "text/plain": [
       "{WindowsPath('headers/ex.alth')}"
      ]
     },
     "execution_count": 104,
     "metadata": {},
     "output_type": "execute_result"
    }
   ],
   "source": [
    "no_write_paths"
   ]
  },
  {
   "cell_type": "code",
   "execution_count": 105,
   "id": "09c1e2ff",
   "metadata": {},
   "outputs": [
    {
     "data": {
      "text/plain": [
       "[{'src': './temp.althtml', 'dst': './index.html'},\n",
       " {'src': './temp2.althtml', 'dst': './index2.html'}]"
      ]
     },
     "execution_count": 105,
     "metadata": {},
     "output_type": "execute_result"
    }
   ],
   "source": [
    "cfg['write']"
   ]
  },
  {
   "cell_type": "code",
   "execution_count": 106,
   "id": "b5bdc2b4",
   "metadata": {},
   "outputs": [
    {
     "data": {
      "text/plain": [
       "[WindowsPath('headers/ex.alth')]"
      ]
     },
     "execution_count": 106,
     "metadata": {},
     "output_type": "execute_result"
    }
   ],
   "source": [
    "base_path = Path('.')\n",
    "list(base_path.glob(cfg['headers'][0]))"
   ]
  },
  {
   "cell_type": "code",
   "execution_count": 107,
   "id": "1b52c776",
   "metadata": {},
   "outputs": [],
   "source": [
    "from watchdog.observers import Observer\n",
    "from watchdog.events import FileSystemEventHandler\n",
    "import logging"
   ]
  },
  {
   "cell_type": "code",
   "execution_count": 108,
   "id": "7499027e",
   "metadata": {},
   "outputs": [
    {
     "data": {
      "text/plain": [
       "{WindowsPath('temp.althtml'): WindowsPath('index.html'),\n",
       " WindowsPath('temp2.althtml'): WindowsPath('index2.html')}"
      ]
     },
     "execution_count": 108,
     "metadata": {},
     "output_type": "execute_result"
    }
   ],
   "source": [
    "write_pairs"
   ]
  },
  {
   "cell_type": "code",
   "execution_count": null,
   "id": "050d64a4",
   "metadata": {},
   "outputs": [
    {
     "name": "stdout",
     "output_type": "stream",
     "text": [
      "Warning: Output does not start with an <html> tag.\n",
      "Warning: Output does not start with an <html> tag.\n"
     ]
    }
   ],
   "source": [
    "compiler = AlthtmlCompiler()\n",
    "header_files = no_write_paths\n"
   ]
  },
  {
   "cell_type": "code",
   "execution_count": 113,
   "id": "6fdad498",
   "metadata": {},
   "outputs": [],
   "source": [
    "def trigger_recompile(write_pairs, header_files, compiler):\n",
    "    for h in header_files:\n",
    "        compiler.compile(open(h, \"r\").read())\n",
    "    for (k, v) in write_pairs.items():\n",
    "        with open(v, \"w+\") as f:\n",
    "            f.write(compiler.compile(open(k, \"r\").read()))"
   ]
  },
  {
   "cell_type": "code",
   "execution_count": 114,
   "id": "5ea849ff",
   "metadata": {},
   "outputs": [],
   "source": [
    "class ChangeHandler(FileSystemEventHandler):\n",
    "    def __init__(self, files_to_watch, write_pairs = None, header_files = None):\n",
    "        self.files_to_watch = [x.resolve() for x in files_to_watch] # Set of absolute paths (headers + sources)\n",
    "        self.write_pairs = write_pairs       # Dict {abs_src: abs_dst}\n",
    "        self.header_files = header_files     # Set of absolute paths (headers)\n",
    "        self.compiler = AlthtmlCompiler()\n",
    "        print(\"Handler initialized. Monitoring for changes...\")\n",
    "\n",
    "    def on_modified(self, event):\n",
    "        if event.is_directory:\n",
    "            return\n",
    "\n",
    "        # Resolve path and check if it's one we care about\n",
    "        src_path_abs = Path(event.src_path).resolve()\n",
    "        if src_path_abs in self.files_to_watch:\n",
    "            # Use relative path for cleaner logging\n",
    "            try:\n",
    "                rel_path = src_path_abs.relative_to(base_path)\n",
    "            except ValueError:\n",
    "                 rel_path = src_path_abs # If somehow not relative to base path\n",
    "\n",
    "            print(f\"\\nDetected modification in: {rel_path}\")\n",
    "            # Pass the necessary path collections to the trigger function\n",
    "            trigger_recompile(self.write_pairs, self.header_files, self.compiler)\n",
    "        # else: file modified is not in our watch list, ignore.\n",
    "\n",
    "    # on_created, on_deleted can be added similarly if needed"
   ]
  },
  {
   "cell_type": "code",
   "execution_count": 115,
   "id": "bed8664b",
   "metadata": {},
   "outputs": [],
   "source": [
    "def run_watcher(no_write_paths, write_pairs):\n",
    "    \"\"\"Sets up and runs the watchdog observer.\"\"\"\n",
    "    files_to_watch = set(write_pairs.keys())\n",
    "    dirs_to_watch = {p.parent for p in files_to_watch | no_write_paths}\n",
    "    \n",
    "    if not dirs_to_watch:\n",
    "         print(\"Error: No valid directories provided to watch.\")\n",
    "         return\n",
    "    if not files_to_watch:\n",
    "         print(\"Warning: No specific files provided to monitor within directories.\")\n",
    "         # Decide if you want to proceed or exit if files_to_watch is empty\n",
    "    \n",
    "    \n",
    "    \n",
    "    logging.basicConfig(level=logging.INFO,\n",
    "                        format='%(asctime)s - %(message)s',\n",
    "                        datefmt='%Y-%m-%d %H:%M:%S')\n",
    "\n",
    "    event_handler = ChangeHandler(files_to_watch | no_write_paths, write_pairs=write_pairs, header_files=no_write_paths)\n",
    "    observer = Observer()\n",
    "\n",
    "    scheduled_count = 0\n",
    "    for dir_path in dirs_to_watch:\n",
    "        if not isinstance(dir_path, Path):\n",
    "             print(f\"Error: Item in dirs_to_watch is not a Path object: {dir_path}\")\n",
    "             continue\n",
    "        if not dir_path.is_dir():\n",
    "             print(f\"Warning: Directory '{dir_path}' does not exist. Cannot watch.\")\n",
    "             continue\n",
    "\n",
    "        # Schedule monitoring for the directory.\n",
    "        # recursive=False means watchdog only looks for events directly\n",
    "        # within this directory, not subdirectories.\n",
    "        observer.schedule(event_handler, str(dir_path), recursive=False)\n",
    "        scheduled_count += 1\n",
    "        print(f\"Scheduled watcher for directory: {dir_path}\")\n",
    "\n",
    "    if scheduled_count == 0:\n",
    "         print(\"Error: No watchers were successfully scheduled. Exiting.\")\n",
    "         return\n",
    "\n",
    "    observer.start()\n",
    "    print(f\"\\nWatching for file changes in {scheduled_count} director{'y' if scheduled_count == 1 else 'ies'}. Press Ctrl+C to stop.\")\n",
    "\n",
    "    try:\n",
    "        while observer.is_alive():\n",
    "            observer.join(timeout=1) # Wait for observer thread, check status periodically\n",
    "    except KeyboardInterrupt:\n",
    "        print(\"\\nStopping watcher (Ctrl+C pressed)...\")\n",
    "    except Exception as e:\n",
    "        print(f\"\\nAn unexpected error occurred: {e}\")\n",
    "    finally:\n",
    "        if observer.is_alive():\n",
    "            observer.stop()\n",
    "            print(\"Observer stop signal sent.\")\n",
    "        # Wait for the observer thread to fully finish shutting down\n",
    "        observer.join()\n",
    "        print(\"Watcher stopped completely.\")"
   ]
  },
  {
   "cell_type": "code",
   "execution_count": 116,
   "id": "1f9a89a9",
   "metadata": {},
   "outputs": [
    {
     "name": "stdout",
     "output_type": "stream",
     "text": [
      "Handler initialized. Monitoring for changes...\n",
      "Scheduled watcher for directory: .\n",
      "Scheduled watcher for directory: headers\n",
      "\n",
      "Watching for file changes in 2 directories. Press Ctrl+C to stop.\n",
      "\n",
      "Detected modification in: F:\\althtml\\pyalthtml\\notebooks\\temp.althtml\n",
      "Warning: Output does not start with an <html> tag.\n",
      "Warning: Output does not start with an <html> tag.\n",
      "\n",
      "Detected modification in: F:\\althtml\\pyalthtml\\notebooks\\temp.althtml\n",
      "Warning: Output does not start with an <html> tag.\n",
      "Warning: Output does not start with an <html> tag.\n",
      "\n",
      "Detected modification in: F:\\althtml\\pyalthtml\\notebooks\\temp.althtml\n",
      "Warning: Output does not start with an <html> tag.\n",
      "Warning: Output does not start with an <html> tag.\n",
      "\n",
      "Stopping watcher (Ctrl+C pressed)...\n",
      "Watcher stopped completely.\n"
     ]
    }
   ],
   "source": [
    "run_watcher(no_write_paths, write_pairs)"
   ]
  },
  {
   "cell_type": "code",
   "execution_count": null,
   "id": "32b27f61",
   "metadata": {},
   "outputs": [
    {
     "name": "stdout",
     "output_type": "stream",
     "text": [
      "An unexpected error occurred: list index out of range\n"
     ]
    }
   ],
   "source": []
  }
 ],
 "metadata": {
  "kernelspec": {
   "display_name": ".venv",
   "language": "python",
   "name": "python3"
  },
  "language_info": {
   "codemirror_mode": {
    "name": "ipython",
    "version": 3
   },
   "file_extension": ".py",
   "mimetype": "text/x-python",
   "name": "python",
   "nbconvert_exporter": "python",
   "pygments_lexer": "ipython3",
   "version": "3.12.10"
  }
 },
 "nbformat": 4,
 "nbformat_minor": 5
}
